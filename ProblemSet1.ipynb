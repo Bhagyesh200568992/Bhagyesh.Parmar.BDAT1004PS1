{
 "cells": [
  {
   "cell_type": "markdown",
   "id": "d6e80e8e",
   "metadata": {},
   "source": [
    "# Problem Set 1\n",
    "\n",
    "### Que 1.\n",
    "#### What data type is each of the following ?\n",
    "5 = Int\n",
    "5.0 =Float\n",
    "5>1 = Boolean (5>1 is True so Ans is Boolean)\n",
    "'5' =String\n",
    "5*2 = Int (5*2=10 so Ans is Int\n",
    "'5'+'2' =String (String Concatination)\n",
    "5/2 =Float (5/2 =2.5 )\n",
    "5%2 = Int (5%2 =1 so Int)\n",
    "{5,2,1} =Dictionary\n",
    "5==3 =boolean (5==3 is False )\n",
    "Pi = Float (Pi =3.14)"
   ]
  },
  {
   "cell_type": "code",
   "execution_count": 1,
   "id": "20a1dc2e",
   "metadata": {
    "collapsed": true
   },
   "outputs": [
    {
     "data": {
      "text/plain": [
       "int"
      ]
     },
     "execution_count": 1,
     "metadata": {},
     "output_type": "execute_result"
    }
   ],
   "source": [
    "type(5) #Integer"
   ]
  },
  {
   "cell_type": "code",
   "execution_count": 2,
   "id": "9eb3794e",
   "metadata": {},
   "outputs": [
    {
     "data": {
      "text/plain": [
       "float"
      ]
     },
     "execution_count": 2,
     "metadata": {},
     "output_type": "execute_result"
    }
   ],
   "source": [
    "type(5.0) #Float"
   ]
  },
  {
   "cell_type": "code",
   "execution_count": 3,
   "id": "212db561",
   "metadata": {},
   "outputs": [
    {
     "data": {
      "text/plain": [
       "bool"
      ]
     },
     "execution_count": 3,
     "metadata": {},
     "output_type": "execute_result"
    }
   ],
   "source": [
    "type(5>1) # 5>1 is True so Ans is Boolean"
   ]
  },
  {
   "cell_type": "code",
   "execution_count": 4,
   "id": "8f69329f",
   "metadata": {},
   "outputs": [
    {
     "data": {
      "text/plain": [
       "str"
      ]
     },
     "execution_count": 4,
     "metadata": {},
     "output_type": "execute_result"
    }
   ],
   "source": [
    "type('5') #String"
   ]
  },
  {
   "cell_type": "code",
   "execution_count": 5,
   "id": "934684fd",
   "metadata": {},
   "outputs": [
    {
     "data": {
      "text/plain": [
       "int"
      ]
     },
     "execution_count": 5,
     "metadata": {},
     "output_type": "execute_result"
    }
   ],
   "source": [
    "type(5*2) # 5*2 =10 here 5 and 2 are numbers so Ans is Integer"
   ]
  },
  {
   "cell_type": "code",
   "execution_count": 6,
   "id": "4623081d",
   "metadata": {},
   "outputs": [
    {
     "data": {
      "text/plain": [
       "str"
      ]
     },
     "execution_count": 6,
     "metadata": {},
     "output_type": "execute_result"
    }
   ],
   "source": [
    "type('5'+'2') #  '5'+'2' is String Concetination so Ans is String"
   ]
  },
  {
   "cell_type": "code",
   "execution_count": 7,
   "id": "c4016928",
   "metadata": {},
   "outputs": [
    {
     "data": {
      "text/plain": [
       "float"
      ]
     },
     "execution_count": 7,
     "metadata": {},
     "output_type": "execute_result"
    }
   ],
   "source": [
    "type(5/2) # 5/2 =2.5 so Ans is Float"
   ]
  },
  {
   "cell_type": "code",
   "execution_count": 8,
   "id": "c1e5a480",
   "metadata": {},
   "outputs": [
    {
     "data": {
      "text/plain": [
       "int"
      ]
     },
     "execution_count": 8,
     "metadata": {},
     "output_type": "execute_result"
    }
   ],
   "source": [
    "type(5%2)  # 5%2 =1 here 1 is remander Ans is Float"
   ]
  },
  {
   "cell_type": "code",
   "execution_count": 9,
   "id": "59c6ab4a",
   "metadata": {},
   "outputs": [
    {
     "data": {
      "text/plain": [
       "set"
      ]
     },
     "execution_count": 9,
     "metadata": {},
     "output_type": "execute_result"
    }
   ],
   "source": [
    "type({5,2,1}) # Set"
   ]
  },
  {
   "cell_type": "code",
   "execution_count": 10,
   "id": "9b7f9c68",
   "metadata": {},
   "outputs": [
    {
     "data": {
      "text/plain": [
       "bool"
      ]
     },
     "execution_count": 10,
     "metadata": {},
     "output_type": "execute_result"
    }
   ],
   "source": [
    "type(5==3) # 5==3 is False so Ans is Boolean"
   ]
  },
  {
   "cell_type": "code",
   "execution_count": 12,
   "id": "6e92c9e7",
   "metadata": {},
   "outputs": [
    {
     "data": {
      "text/plain": [
       "float"
      ]
     },
     "execution_count": 12,
     "metadata": {},
     "output_type": "execute_result"
    }
   ],
   "source": [
    "import math\n",
    "type(math.pi) # pi value is 3.14 so Ans is Float"
   ]
  },
  {
   "cell_type": "markdown",
   "id": "954dfee7",
   "metadata": {},
   "source": [
    "# Question 2\n",
    "\n",
    "### Write (and evaluate) python expressions that answer these questions:\n",
    "\n",
    "#### a. How many letters are there in 'Supercalifragilisticexpialidocious'?\n",
    " "
   ]
  },
  {
   "cell_type": "code",
   "execution_count": 15,
   "id": "cf8a9a25",
   "metadata": {},
   "outputs": [
    {
     "name": "stdout",
     "output_type": "stream",
     "text": [
      "34\n"
     ]
    }
   ],
   "source": [
    "print(len('Supercalifragilisticexpialidocious'))"
   ]
  },
  {
   "cell_type": "markdown",
   "id": "6548b2c6",
   "metadata": {},
   "source": [
    "#### b. Does 'Supercalifragilisticexpialidocious' contain 'ice' as a substring? "
   ]
  },
  {
   "cell_type": "code",
   "execution_count": 16,
   "id": "43f8ef48",
   "metadata": {},
   "outputs": [
    {
     "name": "stdout",
     "output_type": "stream",
     "text": [
      "True\n"
     ]
    }
   ],
   "source": [
    "print('ice' in 'Supercalifragilisticexpialidocious')"
   ]
  },
  {
   "cell_type": "markdown",
   "id": "b93f08c5",
   "metadata": {},
   "source": [
    "#### Which of the following words is the longest:\n",
    "Supercalifragilisticexpialidocious, Honorificabilitudinitatibus, or Bababadalgharaghtakamminarronnkonn?"
   ]
  },
  {
   "cell_type": "code",
   "execution_count": 18,
   "id": "d6a78280",
   "metadata": {},
   "outputs": [
    {
     "name": "stdout",
     "output_type": "stream",
     "text": [
      "The longest words are: ['Supercalifragilisticexpialidocious', 'Bababadalgharaghtakamminarronnkonn']\n"
     ]
    }
   ],
   "source": [
    "words = [\"Supercalifragilisticexpialidocious\", \"Honorificabilitudinitatibus\", \"Bababadalgharaghtakamminarronnkonn\"]\n",
    "\n",
    "# maximum word length\n",
    "max_length = max(len(word) for word in words)\n",
    "\n",
    "# all words with the maximum length\n",
    "longest_words = [word for word in words if len(word) == max_length]\n",
    "\n",
    "print(\"The longest words are:\", longest_words)"
   ]
  },
  {
   "cell_type": "markdown",
   "id": "a622975a",
   "metadata": {},
   "source": [
    "#### Which composer comes first in the dictionary: 'Berlioz', 'Borodin', 'Brian', 'Bartok', 'Bellini', 'Buxtehude', 'Bernstein'. Which one comes last?\n"
   ]
  },
  {
   "cell_type": "code",
   "execution_count": 19,
   "id": "d92d93c8",
   "metadata": {},
   "outputs": [
    {
     "name": "stdout",
     "output_type": "stream",
     "text": [
      "First Composer :  Bartok\n",
      "Last Composer :  Buxtehude\n"
     ]
    }
   ],
   "source": [
    "list1=['Berlioz', 'Borodin', 'Brian', 'Bartok', 'Bellini', 'Buxtehude', 'Bernstein']\n",
    "list1.sort() #sort array by dictionary\n",
    "print(\"First Composer : \",list1[0]) #First Composer value\n",
    "print(\"Last Composer : \",list1[-1]) #Last Composer value or Reverse First"
   ]
  },
  {
   "cell_type": "markdown",
   "id": "5acebe87",
   "metadata": {},
   "source": [
    "## Question 3\n",
    "\n",
    "#### Implement function triangleArea(a,b,c) that takes as input the lengths of the 3 sides of a triangle and returns the area of the triangle. By Heron's formula, the area of a triangle with side lengths a, b, and c is sqrt(s(s - a)(s -b)(s -c)), where s = (a+b+c)/2. "
   ]
  },
  {
   "cell_type": "code",
   "execution_count": 21,
   "id": "f41b44a6",
   "metadata": {},
   "outputs": [
    {
     "name": "stdout",
     "output_type": "stream",
     "text": [
      "Area of Triangle is :  1.7320508075688772\n"
     ]
    }
   ],
   "source": [
    "import math\n",
    "def triangleArea(a,b,c):\n",
    "    s=(a+b+c)/2\n",
    "    area=math.sqrt((s*(s-a)*(s-b)*(s-c)))\n",
    "    print('Area of Triangle is : ',area)\n",
    "    \n",
    "triangleArea(2,2,2)\n",
    "    "
   ]
  },
  {
   "cell_type": "markdown",
   "id": "bbe89d6b",
   "metadata": {},
   "source": [
    "## Question 4\n",
    "\n",
    "#### Write a program in python to separate odd and even integers in separate arrays."
   ]
  },
  {
   "cell_type": "code",
   "execution_count": 24,
   "id": "136f339b",
   "metadata": {},
   "outputs": [
    {
     "name": "stdout",
     "output_type": "stream",
     "text": [
      "Enter the Length of Array : 5\n",
      "Enter the Element of Array : 25\n",
      "Enter the Element of Array : 47\n",
      "Enter the Element of Array : 42\n",
      "Enter the Element of Array : 56\n",
      "Enter the Element of Array : 32\n",
      "Original Array : 25 47 42 56 32 \n",
      " Even Elements of Array : 42 56 32 \n",
      " Odd Elements of Array : 25 47 "
     ]
    }
   ],
   "source": [
    "no=int(input(\"Enter the Length of Array : \")) # taking Input from user and parse as Int \n",
    "list1=[] # Blank  list1 created \n",
    "odd=[] # Blank odd list created \n",
    "even=[]# Blank even list created \n",
    "for i in range(no):\n",
    "    a=int(input(\"Enter the Element of Array : \")) \n",
    "    list1.append(a) #store value in list1\n",
    "    if a%2==0: # condition for even number \n",
    "        even.append(a) #append in even list\n",
    "    else :\n",
    "        odd.append(a) #append in odd list\n",
    "print(\"Original Array : \",end='')\n",
    "for i in list1:\n",
    "    print(i,end=' ')\n",
    "    \n",
    "print(\"\\n Even Elements of Array : \",end='')\n",
    "for i in even:\n",
    "    print(i,end=' ')\n",
    "    \n",
    "print(\"\\n Odd Elements of Array : \",end='')\n",
    "for i in odd:\n",
    "    print(i,end=' ')"
   ]
  },
  {
   "cell_type": "markdown",
   "id": "41f98442",
   "metadata": {},
   "source": [
    "## Question 5\n",
    "\n",
    "a. Write a function inside(x,y,x1,y1,x2,y2) that returns True or False depending on whether the point (x,y) lies in the rectangle with lower left corner (x1,y1) and upper right corner (x2,y2). \n",
    "###### >>> inside(1,1,0,0,2,3) \n",
    "True \n",
    "###### >>> inside(-1,-1,0,0,2,3) False"
   ]
  },
  {
   "cell_type": "code",
   "execution_count": 26,
   "id": "f1755e35",
   "metadata": {},
   "outputs": [
    {
     "name": "stdout",
     "output_type": "stream",
     "text": [
      "True\n",
      "False\n"
     ]
    }
   ],
   "source": [
    "def inside(x,y,x1,y1,x2,y2):\n",
    "    if ((x-x1)>0 and (x2-x)>0 and (y-y1)>0 and (y2-y)>0): # Condition check for given point inside the rectangle\n",
    "        print(\"True\")\n",
    "    else :\n",
    "        print(\"False\")\n",
    "\n",
    "inside(1,1,0,0,2,3)\n",
    "inside(-1,-1,0,0,2,3)"
   ]
  },
  {
   "cell_type": "markdown",
   "id": "c76a3f6b",
   "metadata": {},
   "source": [
    "#### b. Use function inside() from part a. to write an expression that tests whether the point (1,1) lies in both of the following rectangles: one with lower left corner (0.3, 0.5) and upper right corner (1.1, 0.7) and the other with lower left corner (0.5, 0.2) and upper right corner (1.1, 2). "
   ]
  },
  {
   "cell_type": "code",
   "execution_count": 27,
   "id": "f4e4d5e7",
   "metadata": {},
   "outputs": [
    {
     "name": "stdout",
     "output_type": "stream",
     "text": [
      "False\n",
      "True\n"
     ]
    }
   ],
   "source": [
    "inside(1,1,0.3,0.5,1.1,0.7)\n",
    "inside(1,1,0.5,0.2,1.1,2)\n"
   ]
  },
  {
   "cell_type": "markdown",
   "id": "c2ffc645",
   "metadata": {},
   "source": [
    "# Question 6\n",
    "\n",
    "You can turn a word into pig-Latin using the following two rules (simplified):\n",
    "• If the word starts with a consonant, move that letter to the end and append\n",
    "'ay'. For example, 'happy' becomes 'appyhay' and 'pencil' becomes 'encilpay'.\n",
    "• If the word starts with a vowel, simply append 'way' to the end of the word.\n",
    "For example, 'enter' becomes 'enterway' and 'other' becomes 'otherway' . For\n",
    "our purposes, there are 5 vowels: a, e, i, o, u (so we count y as a consonant).\n",
    "Write a function pig() that takes a word (i.e., a string) as input and returns its pigLatin form. Your function should still work if the input word contains upper case\n",
    "characters. Your output should always be lower case however.\n",
    "###### >>> pig('happy')\n",
    "'appyhay'\n",
    "###### >>> pig('Enter')\n",
    "'enterway' "
   ]
  },
  {
   "cell_type": "code",
   "execution_count": 30,
   "id": "045a83c2",
   "metadata": {},
   "outputs": [
    {
     "name": "stdout",
     "output_type": "stream",
     "text": [
      "appyhay\n",
      "enterway\n"
     ]
    }
   ],
   "source": [
    "vowel=['a','e','i','o','u'] #define vowels \n",
    "def pig(word): \n",
    "    word=word.lower()\n",
    "    if word[0].lower() in vowel: #Check first letter is vowel or not  \n",
    "        word=word+'way' # append 'way'\n",
    "    else:\n",
    "        a=word[0] # get the first char of word\n",
    "        word=word[1:]+word[0]+'ay' # get the word without first char and append first char and then 'ay' to end \n",
    "    print(word) \n",
    "    \n",
    "pig('happy')\n",
    "pig('ENTER')"
   ]
  },
  {
   "cell_type": "markdown",
   "id": "e25f3524",
   "metadata": {},
   "source": [
    "# Question 7\n",
    "\n",
    "File bloodtype1.txt records blood-types of patients (A, B, AB, O or OO) at a clinic.\n",
    "Write a function bldcount() that reads the file with name name and reports (i.e.,\n",
    "prints) how many patients there are in each bloodtype.\n"
   ]
  },
  {
   "cell_type": "code",
   "execution_count": 5,
   "id": "96d67153",
   "metadata": {},
   "outputs": [
    {
     "name": "stdout",
     "output_type": "stream",
     "text": [
      "There are 15 Patients of Blood type  A.\n",
      "There is One patient of Blood type  B\n",
      "There are 13 Patients of Blood type  AB.\n",
      "There are 15 Patients of Blood type  O.\n",
      "There is no patient of Blood type  OO\n"
     ]
    }
   ],
   "source": [
    "infile = open('bloodtype1.txt') #open File\n",
    "data=infile.read() #read whole file\n",
    "infile.close() #file close\n",
    "wordlist=data.split() #split data and added to wordlist for frequnecy count\n",
    "\n",
    "btype=['A','B','AB','O','OO']\n",
    "for i in btype:\n",
    "    if wordlist.count(i)==1:\n",
    "        print(\"There is One patient of Blood type \",i) #string format and count the value present in list\n",
    "    elif wordlist.count(i)==0:\n",
    "        print(\"There is no patient of Blood type \",i)\n",
    "    else :\n",
    "        print(\"There are {a} Patients of Blood type  {value}.\".format(a=wordlist.count(i),value=i))\n",
    "        \n"
   ]
  },
  {
   "cell_type": "markdown",
   "id": "be0368da",
   "metadata": {},
   "source": [
    "#  Question 8\n",
    "\n",
    "Write a function curconv() that takes as input:\n",
    "1. a currency represented using a string (e.g., 'JPY' for the Japanese Yen or'EUR' for the Euro)\n",
    "2. an amount \n",
    "and then converts and returns the amount in US dollars.\n",
    "###### >>> curconv('EUR', 100)\n",
    "122.96544\n",
    "###### >>> curconv('JPY', 100)\n",
    "1.241401\n"
   ]
  },
  {
   "cell_type": "code",
   "execution_count": 43,
   "id": "43110439",
   "metadata": {},
   "outputs": [
    {
     "name": "stdout",
     "output_type": "stream",
     "text": [
      "122.96544\n",
      "1.241401\n"
     ]
    }
   ],
   "source": [
    "infile = open('currencies.txt')#open File\n",
    "data=infile.readlines() #read linebyline and store in list \n",
    "curr_rate={} # blank dictionary for data storage\n",
    "\n",
    "for i in data:\n",
    "    a=i.split() #split into the words of line from file stored in list \n",
    "    curr_rate[a[0]]=float(a[1]) # stored the dic with currlabel and rate \n",
    "    \n",
    "def curconv(curr,amt): #define fun\n",
    "    r=curr_rate.get(curr) #get the value from dic as per curr given in argument\n",
    "    final_amount=amt*r #calculate the rate\n",
    "    print(final_amount)\n",
    "\n",
    "curconv('EUR', 100)\n",
    "curconv('JPY', 100)"
   ]
  },
  {
   "cell_type": "markdown",
   "id": "cade974a",
   "metadata": {},
   "source": [
    "# Question 9\n",
    "#### Each of the following will cause an exception (an error). Identify what type ofexception each will cause. Trying to add incompatible variables, as inadding 6 + ‘a’"
   ]
  },
  {
   "cell_type": "code",
   "execution_count": 39,
   "id": "b882fdff",
   "metadata": {},
   "outputs": [
    {
     "ename": "TypeError",
     "evalue": "unsupported operand type(s) for +: 'int' and 'str'",
     "output_type": "error",
     "traceback": [
      "\u001b[1;31m---------------------------------------------------------------------------\u001b[0m",
      "\u001b[1;31mTypeError\u001b[0m                                 Traceback (most recent call last)",
      "Cell \u001b[1;32mIn[39], line 1\u001b[0m\n\u001b[1;32m----> 1\u001b[0m \u001b[38;5;28mprint\u001b[39m(\u001b[38;5;241m6\u001b[39m\u001b[38;5;241m+\u001b[39m\u001b[38;5;124m'\u001b[39m\u001b[38;5;124ma\u001b[39m\u001b[38;5;124m'\u001b[39m)\n",
      "\u001b[1;31mTypeError\u001b[0m: unsupported operand type(s) for +: 'int' and 'str'"
     ]
    }
   ],
   "source": [
    "print(6+'a') \n",
    "# TypeError bcz 6 is Integer and 'a' is string and + is concatination operator /addtion \n",
    "#but they need same datatype of values to perform operation so TypeError exception occcured"
   ]
  },
  {
   "cell_type": "markdown",
   "id": "192dd294",
   "metadata": {},
   "source": [
    "#### Referring to the 12th item of a list that has only 10items."
   ]
  },
  {
   "cell_type": "code",
   "execution_count": 42,
   "id": "ec03f846",
   "metadata": {},
   "outputs": [
    {
     "ename": "IndexError",
     "evalue": "list index out of range",
     "output_type": "error",
     "traceback": [
      "\u001b[1;31m---------------------------------------------------------------------------\u001b[0m",
      "\u001b[1;31mIndexError\u001b[0m                                Traceback (most recent call last)",
      "Cell \u001b[1;32mIn[42], line 2\u001b[0m\n\u001b[0;32m      1\u001b[0m list1\u001b[38;5;241m=\u001b[39m[\u001b[38;5;241m1\u001b[39m,\u001b[38;5;241m2\u001b[39m,\u001b[38;5;241m3\u001b[39m,\u001b[38;5;241m4\u001b[39m,\u001b[38;5;241m5\u001b[39m,\u001b[38;5;241m6\u001b[39m,\u001b[38;5;241m7\u001b[39m,\u001b[38;5;241m8\u001b[39m,\u001b[38;5;241m9\u001b[39m,\u001b[38;5;241m0\u001b[39m]\n\u001b[1;32m----> 2\u001b[0m \u001b[38;5;28mprint\u001b[39m(list1[\u001b[38;5;241m12\u001b[39m]) \n\u001b[0;32m      4\u001b[0m \u001b[38;5;124;03m\"\"\" list index is out of range bcz only 10 elements were there with last index value of 9 and we are requesting \u001b[39;00m\n\u001b[0;32m      5\u001b[0m \u001b[38;5;124;03mfor value at index 12 \"\"\"\u001b[39;00m\n",
      "\u001b[1;31mIndexError\u001b[0m: list index out of range"
     ]
    }
   ],
   "source": [
    "list1=[1,2,3,4,5,6,7,8,9,0]\n",
    "print(list1[12]) \n",
    "\"\"\" list index is out of range bcz only 10 elements were there with last index value of 9 and we are requesting \n",
    "for value at index 12 \"\"\""
   ]
  },
  {
   "cell_type": "markdown",
   "id": "d33fc367",
   "metadata": {},
   "source": [
    "#### Using a value that is out of range for a function’sinput, such as calling math.sqrt(-1.0)"
   ]
  },
  {
   "cell_type": "code",
   "execution_count": 44,
   "id": "6c26e207",
   "metadata": {},
   "outputs": [
    {
     "ename": "ValueError",
     "evalue": "math domain error",
     "output_type": "error",
     "traceback": [
      "\u001b[1;31m---------------------------------------------------------------------------\u001b[0m",
      "\u001b[1;31mValueError\u001b[0m                                Traceback (most recent call last)",
      "Cell \u001b[1;32mIn[44], line 2\u001b[0m\n\u001b[0;32m      1\u001b[0m \u001b[38;5;28;01mimport\u001b[39;00m \u001b[38;5;21;01mmath\u001b[39;00m\n\u001b[1;32m----> 2\u001b[0m \u001b[38;5;28mprint\u001b[39m(math\u001b[38;5;241m.\u001b[39msqrt(\u001b[38;5;241m-\u001b[39m\u001b[38;5;241m1.0\u001b[39m))\n",
      "\u001b[1;31mValueError\u001b[0m: math domain error"
     ]
    }
   ],
   "source": [
    "import math\n",
    "print(math.sqrt(-1.0))\n",
    "\n",
    "#squre root of negative value is not possible in real number thats why error is math doamin error \n",
    "#square root of -1 is imaginory number "
   ]
  },
  {
   "cell_type": "markdown",
   "id": "cd1d2421",
   "metadata": {},
   "source": [
    "#### Using an undeclared variable, such as print(x) when x has not been defined "
   ]
  },
  {
   "cell_type": "code",
   "execution_count": 45,
   "id": "ea5ade5b",
   "metadata": {},
   "outputs": [
    {
     "ename": "NameError",
     "evalue": "name 'x' is not defined",
     "output_type": "error",
     "traceback": [
      "\u001b[1;31m---------------------------------------------------------------------------\u001b[0m",
      "\u001b[1;31mNameError\u001b[0m                                 Traceback (most recent call last)",
      "Cell \u001b[1;32mIn[45], line 1\u001b[0m\n\u001b[1;32m----> 1\u001b[0m \u001b[38;5;28mprint\u001b[39m(x)\n",
      "\u001b[1;31mNameError\u001b[0m: name 'x' is not defined"
     ]
    }
   ],
   "source": [
    "print(x)\n",
    "#Name error bcz variable x is not defined by us so we cannot call it "
   ]
  },
  {
   "cell_type": "markdown",
   "id": "c1ee01b4",
   "metadata": {},
   "source": [
    "Trying to open a file that does not exist, such asmistyping the file name or looking in the wrong directory. "
   ]
  },
  {
   "cell_type": "code",
   "execution_count": 46,
   "id": "b393d2d4",
   "metadata": {},
   "outputs": [
    {
     "ename": "FileNotFoundError",
     "evalue": "[Errno 2] No such file or directory: 'bloodtype2.txt'",
     "output_type": "error",
     "traceback": [
      "\u001b[1;31m---------------------------------------------------------------------------\u001b[0m",
      "\u001b[1;31mFileNotFoundError\u001b[0m                         Traceback (most recent call last)",
      "Cell \u001b[1;32mIn[46], line 1\u001b[0m\n\u001b[1;32m----> 1\u001b[0m infile \u001b[38;5;241m=\u001b[39m \u001b[38;5;28mopen\u001b[39m(\u001b[38;5;124m'\u001b[39m\u001b[38;5;124mbloodtype2.txt\u001b[39m\u001b[38;5;124m'\u001b[39m)\n",
      "File \u001b[1;32m~\\anaconda3\\Lib\\site-packages\\IPython\\core\\interactiveshell.py:284\u001b[0m, in \u001b[0;36m_modified_open\u001b[1;34m(file, *args, **kwargs)\u001b[0m\n\u001b[0;32m    277\u001b[0m \u001b[38;5;28;01mif\u001b[39;00m file \u001b[38;5;129;01min\u001b[39;00m {\u001b[38;5;241m0\u001b[39m, \u001b[38;5;241m1\u001b[39m, \u001b[38;5;241m2\u001b[39m}:\n\u001b[0;32m    278\u001b[0m     \u001b[38;5;28;01mraise\u001b[39;00m \u001b[38;5;167;01mValueError\u001b[39;00m(\n\u001b[0;32m    279\u001b[0m         \u001b[38;5;124mf\u001b[39m\u001b[38;5;124m\"\u001b[39m\u001b[38;5;124mIPython won\u001b[39m\u001b[38;5;124m'\u001b[39m\u001b[38;5;124mt let you open fd=\u001b[39m\u001b[38;5;132;01m{\u001b[39;00mfile\u001b[38;5;132;01m}\u001b[39;00m\u001b[38;5;124m by default \u001b[39m\u001b[38;5;124m\"\u001b[39m\n\u001b[0;32m    280\u001b[0m         \u001b[38;5;124m\"\u001b[39m\u001b[38;5;124mas it is likely to crash IPython. If you know what you are doing, \u001b[39m\u001b[38;5;124m\"\u001b[39m\n\u001b[0;32m    281\u001b[0m         \u001b[38;5;124m\"\u001b[39m\u001b[38;5;124myou can use builtins\u001b[39m\u001b[38;5;124m'\u001b[39m\u001b[38;5;124m open.\u001b[39m\u001b[38;5;124m\"\u001b[39m\n\u001b[0;32m    282\u001b[0m     )\n\u001b[1;32m--> 284\u001b[0m \u001b[38;5;28;01mreturn\u001b[39;00m io_open(file, \u001b[38;5;241m*\u001b[39margs, \u001b[38;5;241m*\u001b[39m\u001b[38;5;241m*\u001b[39mkwargs)\n",
      "\u001b[1;31mFileNotFoundError\u001b[0m: [Errno 2] No such file or directory: 'bloodtype2.txt'"
     ]
    }
   ],
   "source": [
    "infile = open('bloodtype2.txt')\n",
    "#Filenotfound error bcz neither this file nor directory exsits in the rootdirectory"
   ]
  },
  {
   "cell_type": "markdown",
   "id": "06e78254",
   "metadata": {},
   "source": [
    "# Question 10\n",
    "Encryption is the process of hiding the meaning of a text by substituting letters in themessage with other letters, according to some system. If the process is successful, noone but the intended recipient can understand the encrypted message. Cryptanalysis refers to attempts to undo the encryption, even if some details of the encryption are unknown (for example, if an encrypted message has been intercepted). The first stepof cryptanalysis is often to build up a table of letter frequencies in the encrypted text.Assume that the string letters is already defined as 'abcdefghijklmnopqrstuvwxyz'. Write a function called frequencies()that takes a string as its only parameter, and returns a list of integers, showing the number of times each character appears in the text. Your function may ignore anycharacters that are not in letters. \n",
    "\n",
    "###### >>> frequencies('The quick red fox got bored and went home.')\n",
    "[1, 1, 1, 3, 5, 1, 1, 2, 1, 0, 1, 0, 1, 2, 4, 0, 1, 2, 0, 2,1, 0, 1, 1, 0, 0]\n",
    "###### >>> frequencies('apple')"
   ]
  },
  {
   "cell_type": "code",
   "execution_count": 51,
   "id": "c2be552a",
   "metadata": {},
   "outputs": [
    {
     "name": "stdout",
     "output_type": "stream",
     "text": [
      "[1, 1, 1, 3, 5, 1, 1, 2, 1, 0, 1, 0, 1, 2, 4, 0, 1, 2, 0, 2, 1, 0, 1, 1, 0, 0]\n",
      "[1, 0, 0, 0, 1, 0, 0, 0, 0, 0, 0, 1, 0, 0, 0, 2, 0, 0, 0, 0, 0, 0, 0, 0, 0, 0]\n"
     ]
    }
   ],
   "source": [
    "a='abcdefghijklmnopqrstuvwxyz' #given char for Frequency count\n",
    "alpha=list(a) #Converted the string into char list \n",
    "\n",
    "def frequencies(str): #define Fun\n",
    "    fre=[] #list to store fre.count of every count of char in input string \n",
    "\n",
    "    for i in alpha: #for evry char in list alha\n",
    "        fre.append(str.count(i)) #count the char how many time present in input string\n",
    "    print(fre)\n",
    "\n",
    "frequencies('The quick red fox got bored and went home.')\n",
    "frequencies('apple')"
   ]
  },
  {
   "cell_type": "code",
   "execution_count": null,
   "id": "1a17f64e",
   "metadata": {},
   "outputs": [],
   "source": []
  }
 ],
 "metadata": {
  "kernelspec": {
   "display_name": "Python 3 (ipykernel)",
   "language": "python",
   "name": "python3"
  },
  "language_info": {
   "codemirror_mode": {
    "name": "ipython",
    "version": 3
   },
   "file_extension": ".py",
   "mimetype": "text/x-python",
   "name": "python",
   "nbconvert_exporter": "python",
   "pygments_lexer": "ipython3",
   "version": "3.11.4"
  }
 },
 "nbformat": 4,
 "nbformat_minor": 5
}
